{
 "cells": [
  {
   "cell_type": "markdown",
   "id": "19113755-eb38-431f-9933-fb487d746318",
   "metadata": {},
   "source": [
    "#  Implementing a Basic RNN in TensorFlow\n",
    "To solidify our understanding, let's implement a simple RNN for sequence classification using TensorFlow."
   ]
  },
  {
   "cell_type": "code",
   "execution_count": 1,
   "id": "73d96c79-1219-435d-99ea-0357c1f04941",
   "metadata": {},
   "outputs": [],
   "source": [
    "import tensorflow as tf\n",
    "import numpy as np\n",
    "from tensorflow.keras.models import Sequential\n",
    "from tensorflow.keras.layers import SimpleRNN, Dense"
   ]
  },
  {
   "cell_type": "code",
   "execution_count": 2,
   "id": "283b5583-9412-453a-b694-f1bd740d354b",
   "metadata": {},
   "outputs": [],
   "source": [
    "# Generate sequences of random integers\n",
    "def generate_sequences(num_sequences, max_length, vocab_size):\n",
    "    sequences = []\n",
    "    labels = []\n",
    "    for _ in range(num_sequences):\n",
    "        length = np.random.randint(1, max_length + 1)\n",
    "        seq = np.random.randint(0, vocab_size, length)\n",
    "        label = np.sum(seq) % 2  # 0 if sum is even, 1 if odd\n",
    "        sequences.append(seq)\n",
    "        labels.append(label)\n",
    "    return sequences, labels\n",
    "\n",
    "# Parameters\n",
    "num_sequences = 1000\n",
    "max_length = 10\n",
    "vocab_size = 10\n",
    "\n",
    "# Generate data\n",
    "sequences, labels = generate_sequences(num_sequences, max_length, vocab_size)"
   ]
  },
  {
   "cell_type": "code",
   "execution_count": 3,
   "id": "e164e0d5-1cc4-4a29-b040-89c310a8f336",
   "metadata": {},
   "outputs": [],
   "source": [
    "from tensorflow.keras.preprocessing.sequence import pad_sequences\n",
    "\n",
    "# Pad sequences to the same length\n",
    "padded_sequences = pad_sequences(sequences, maxlen=max_length, padding='post')\n",
    "\n",
    "# Convert labels to numpy array\n",
    "labels = np.array(labels)"
   ]
  },
  {
   "cell_type": "code",
   "execution_count": 4,
   "id": "3beeb133-dfdc-4ab9-8f60-bfe5f2e85542",
   "metadata": {},
   "outputs": [
    {
     "name": "stderr",
     "output_type": "stream",
     "text": [
      "C:\\Users\\admin\\tensorflow_env\\Lib\\site-packages\\keras\\src\\layers\\rnn\\rnn.py:200: UserWarning: Do not pass an `input_shape`/`input_dim` argument to a layer. When using Sequential models, prefer using an `Input(shape)` object as the first layer in the model instead.\n",
      "  super().__init__(**kwargs)\n"
     ]
    }
   ],
   "source": [
    "# Define the model\n",
    "model = Sequential()\n",
    "model.add(SimpleRNN(32, input_shape=(max_length, 1)))\n",
    "model.add(Dense(1, activation='sigmoid'))\n",
    "\n",
    "# Compile the model\n",
    "model.compile(optimizer='adam', loss='binary_crossentropy', metrics=['accuracy'])"
   ]
  },
  {
   "cell_type": "code",
   "execution_count": 5,
   "id": "97946816-854d-40cd-91b0-bd80cd548f3f",
   "metadata": {},
   "outputs": [
    {
     "name": "stdout",
     "output_type": "stream",
     "text": [
      "Epoch 1/10\n",
      "\u001b[1m25/25\u001b[0m \u001b[32m━━━━━━━━━━━━━━━━━━━━\u001b[0m\u001b[37m\u001b[0m \u001b[1m1s\u001b[0m 12ms/step - accuracy: 0.5075 - loss: 0.7101 - val_accuracy: 0.4400 - val_loss: 0.7247\n",
      "Epoch 2/10\n",
      "\u001b[1m25/25\u001b[0m \u001b[32m━━━━━━━━━━━━━━━━━━━━\u001b[0m\u001b[37m\u001b[0m \u001b[1m0s\u001b[0m 4ms/step - accuracy: 0.5432 - loss: 0.6900 - val_accuracy: 0.4350 - val_loss: 0.7223\n",
      "Epoch 3/10\n",
      "\u001b[1m25/25\u001b[0m \u001b[32m━━━━━━━━━━━━━━━━━━━━\u001b[0m\u001b[37m\u001b[0m \u001b[1m0s\u001b[0m 4ms/step - accuracy: 0.5530 - loss: 0.6822 - val_accuracy: 0.4500 - val_loss: 0.7204\n",
      "Epoch 4/10\n",
      "\u001b[1m25/25\u001b[0m \u001b[32m━━━━━━━━━━━━━━━━━━━━\u001b[0m\u001b[37m\u001b[0m \u001b[1m0s\u001b[0m 4ms/step - accuracy: 0.5699 - loss: 0.6768 - val_accuracy: 0.4700 - val_loss: 0.7184\n",
      "Epoch 5/10\n",
      "\u001b[1m25/25\u001b[0m \u001b[32m━━━━━━━━━━━━━━━━━━━━\u001b[0m\u001b[37m\u001b[0m \u001b[1m0s\u001b[0m 4ms/step - accuracy: 0.5472 - loss: 0.6853 - val_accuracy: 0.4650 - val_loss: 0.7200\n",
      "Epoch 6/10\n",
      "\u001b[1m25/25\u001b[0m \u001b[32m━━━━━━━━━━━━━━━━━━━━\u001b[0m\u001b[37m\u001b[0m \u001b[1m0s\u001b[0m 4ms/step - accuracy: 0.5498 - loss: 0.6903 - val_accuracy: 0.4550 - val_loss: 0.7186\n",
      "Epoch 7/10\n",
      "\u001b[1m25/25\u001b[0m \u001b[32m━━━━━━━━━━━━━━━━━━━━\u001b[0m\u001b[37m\u001b[0m \u001b[1m0s\u001b[0m 4ms/step - accuracy: 0.5896 - loss: 0.6798 - val_accuracy: 0.4800 - val_loss: 0.7229\n",
      "Epoch 8/10\n",
      "\u001b[1m25/25\u001b[0m \u001b[32m━━━━━━━━━━━━━━━━━━━━\u001b[0m\u001b[37m\u001b[0m \u001b[1m0s\u001b[0m 4ms/step - accuracy: 0.5702 - loss: 0.6870 - val_accuracy: 0.4750 - val_loss: 0.7204\n",
      "Epoch 9/10\n",
      "\u001b[1m25/25\u001b[0m \u001b[32m━━━━━━━━━━━━━━━━━━━━\u001b[0m\u001b[37m\u001b[0m \u001b[1m0s\u001b[0m 4ms/step - accuracy: 0.5829 - loss: 0.6750 - val_accuracy: 0.4700 - val_loss: 0.7195\n",
      "Epoch 10/10\n",
      "\u001b[1m25/25\u001b[0m \u001b[32m━━━━━━━━━━━━━━━━━━━━\u001b[0m\u001b[37m\u001b[0m \u001b[1m0s\u001b[0m 4ms/step - accuracy: 0.6078 - loss: 0.6718 - val_accuracy: 0.5000 - val_loss: 0.7129\n"
     ]
    },
    {
     "data": {
      "text/plain": [
       "<keras.src.callbacks.history.History at 0x1d90335b590>"
      ]
     },
     "execution_count": 5,
     "metadata": {},
     "output_type": "execute_result"
    }
   ],
   "source": [
    "# Reshape input data\n",
    "X = padded_sequences.reshape((num_sequences, max_length, 1))\n",
    "y = labels\n",
    "\n",
    "# Train the model\n",
    "model.fit(X, y, epochs=10, batch_size=32, validation_split=0.2)"
   ]
  },
  {
   "cell_type": "code",
   "execution_count": 6,
   "id": "709bc021-8d29-4199-9017-a5ad0bf40073",
   "metadata": {},
   "outputs": [
    {
     "name": "stdout",
     "output_type": "stream",
     "text": [
      "\u001b[1m32/32\u001b[0m \u001b[32m━━━━━━━━━━━━━━━━━━━━\u001b[0m\u001b[37m\u001b[0m \u001b[1m0s\u001b[0m 2ms/step - accuracy: 0.6084 - loss: 0.6741 \n",
      "Accuracy: 58.60%\n"
     ]
    }
   ],
   "source": [
    "# Evaluate on the training data\n",
    "loss, accuracy = model.evaluate(X, y)\n",
    "print(f\"Accuracy: {accuracy * 100:.2f}%\")"
   ]
  },
  {
   "cell_type": "code",
   "execution_count": 7,
   "id": "e0ef7e38-b762-4112-b03a-f1a260d52825",
   "metadata": {},
   "outputs": [
    {
     "name": "stdout",
     "output_type": "stream",
     "text": [
      "\u001b[1m1/1\u001b[0m \u001b[32m━━━━━━━━━━━━━━━━━━━━\u001b[0m\u001b[37m\u001b[0m \u001b[1m0s\u001b[0m 108ms/step\n",
      "Predicted Label: Even\n"
     ]
    }
   ],
   "source": [
    "# Predict on new data\n",
    "test_seq = np.array([[1, 3, 5]])\n",
    "test_seq_padded = pad_sequences(test_seq, maxlen=max_length, padding='post')\n",
    "test_seq_reshaped = test_seq_padded.reshape((1, max_length, 1))\n",
    "\n",
    "prediction = model.predict(test_seq_reshaped)\n",
    "predicted_label = int(prediction.round()[0][0])\n",
    "print(f\"Predicted Label: {'Even' if predicted_label == 0 else 'Odd'}\")"
   ]
  },
  {
   "cell_type": "code",
   "execution_count": null,
   "id": "fd091c27-da1f-4f55-9dcc-e858f8928059",
   "metadata": {},
   "outputs": [],
   "source": []
  }
 ],
 "metadata": {
  "kernelspec": {
   "display_name": "tfkernel",
   "language": "python",
   "name": "tfkernel"
  },
  "language_info": {
   "codemirror_mode": {
    "name": "ipython",
    "version": 3
   },
   "file_extension": ".py",
   "mimetype": "text/x-python",
   "name": "python",
   "nbconvert_exporter": "python",
   "pygments_lexer": "ipython3",
   "version": "3.12.7"
  }
 },
 "nbformat": 4,
 "nbformat_minor": 5
}
