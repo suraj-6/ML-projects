{
 "cells": [
  {
   "cell_type": "markdown",
   "id": "ffd1b6d2-274a-44ef-aa74-fa42d2461361",
   "metadata": {},
   "source": [
    " Develop a program to Load a dataset and select one\n",
    " numerical column. Compute mean, median, mode, standard\n",
    " deviation, variance, and range for a given numerical column\n",
    " in a dataset. Generate a histogram and boxplot to\n",
    " understand the distribution of the data. Identify any\n",
    " outliers in the data using IQR. Select a categorical variable\n",
    " from a dataset. Compute the frequency of each category\n",
    " and display it as a bar chart or pie chart "
   ]
  },
  {
   "cell_type": "markdown",
   "id": "dd80a41e-a882-4acc-99e6-58848349c988",
   "metadata": {},
   "source": [
    " Import Necessary Libraries\n",
    " Import all libraries which are required for our analysis, such as Data Loading, Statistical\n",
    " analysis, Visualizations, Data Transformations, Merge and Joins, etc.\n",
    " Pandas and Numpy have been used for Data Manipulation and numerical Calculations\n",
    " Matplotlib and Seaborn have been used for Data visualizations"
   ]
  },
  {
   "cell_type": "code",
   "execution_count": 2,
   "id": "8eb5a195-e362-4f8b-a9a5-cc10be8ad268",
   "metadata": {},
   "outputs": [
    {
     "name": "stdout",
     "output_type": "stream",
     "text": [
      "Collecting seaborn\n",
      "  Using cached seaborn-0.13.2-py3-none-any.whl.metadata (5.4 kB)\n",
      "Requirement already satisfied: numpy!=1.24.0,>=1.20 in c:\\users\\admin\\appdata\\local\\programs\\python\\python312\\lib\\site-packages (from seaborn) (2.1.2)\n",
      "Requirement already satisfied: pandas>=1.2 in c:\\users\\admin\\appdata\\local\\programs\\python\\python312\\lib\\site-packages (from seaborn) (2.2.3)\n",
      "Requirement already satisfied: matplotlib!=3.6.1,>=3.4 in c:\\users\\admin\\appdata\\local\\programs\\python\\python312\\lib\\site-packages (from seaborn) (3.9.2)\n",
      "Requirement already satisfied: contourpy>=1.0.1 in c:\\users\\admin\\appdata\\local\\programs\\python\\python312\\lib\\site-packages (from matplotlib!=3.6.1,>=3.4->seaborn) (1.3.1)\n",
      "Requirement already satisfied: cycler>=0.10 in c:\\users\\admin\\appdata\\local\\programs\\python\\python312\\lib\\site-packages (from matplotlib!=3.6.1,>=3.4->seaborn) (0.12.1)\n",
      "Requirement already satisfied: fonttools>=4.22.0 in c:\\users\\admin\\appdata\\local\\programs\\python\\python312\\lib\\site-packages (from matplotlib!=3.6.1,>=3.4->seaborn) (4.55.0)\n",
      "Requirement already satisfied: kiwisolver>=1.3.1 in c:\\users\\admin\\appdata\\local\\programs\\python\\python312\\lib\\site-packages (from matplotlib!=3.6.1,>=3.4->seaborn) (1.4.7)\n",
      "Requirement already satisfied: packaging>=20.0 in c:\\users\\admin\\appdata\\local\\programs\\python\\python312\\lib\\site-packages (from matplotlib!=3.6.1,>=3.4->seaborn) (24.1)\n",
      "Requirement already satisfied: pillow>=8 in c:\\users\\admin\\appdata\\local\\programs\\python\\python312\\lib\\site-packages (from matplotlib!=3.6.1,>=3.4->seaborn) (11.0.0)\n",
      "Requirement already satisfied: pyparsing>=2.3.1 in c:\\users\\admin\\appdata\\local\\programs\\python\\python312\\lib\\site-packages (from matplotlib!=3.6.1,>=3.4->seaborn) (3.2.0)\n",
      "Requirement already satisfied: python-dateutil>=2.7 in c:\\users\\admin\\appdata\\local\\programs\\python\\python312\\lib\\site-packages (from matplotlib!=3.6.1,>=3.4->seaborn) (2.9.0.post0)\n",
      "Requirement already satisfied: pytz>=2020.1 in c:\\users\\admin\\appdata\\roaming\\python\\python312\\site-packages (from pandas>=1.2->seaborn) (2025.1)\n",
      "Requirement already satisfied: tzdata>=2022.7 in c:\\users\\admin\\appdata\\local\\programs\\python\\python312\\lib\\site-packages (from pandas>=1.2->seaborn) (2024.2)\n",
      "Requirement already satisfied: six>=1.5 in c:\\users\\admin\\appdata\\local\\programs\\python\\python312\\lib\\site-packages (from python-dateutil>=2.7->matplotlib!=3.6.1,>=3.4->seaborn) (1.16.0)\n",
      "Using cached seaborn-0.13.2-py3-none-any.whl (294 kB)\n",
      "Installing collected packages: seaborn\n",
      "Successfully installed seaborn-0.13.2\n"
     ]
    },
    {
     "name": "stderr",
     "output_type": "stream",
     "text": [
      "\n",
      "[notice] A new release of pip is available: 24.2 -> 25.1.1\n",
      "[notice] To update, run: C:\\Users\\admin\\AppData\\Local\\Programs\\Python\\Python312\\python.exe -m pip install --upgrade pip\n"
     ]
    }
   ],
   "source": [
    "!pip install seaborn"
   ]
  },
  {
   "cell_type": "code",
   "execution_count": 6,
   "id": "b1083956-b663-4da7-8fd6-ca6e60269b04",
   "metadata": {},
   "outputs": [],
   "source": [
    " import pandas as pd\n",
    " import numpy as np\n",
    " import matplotlib.pyplot as plt\n",
    " import seaborn as sns\n",
    " import warnings\n",
    " warnings.filterwarnings('ignore')"
   ]
  },
  {
   "cell_type": "code",
   "execution_count": 7,
   "id": "f6c1529c-7680-4c69-8db1-06d0a7dbb2a0",
   "metadata": {},
   "outputs": [
    {
     "name": "stdout",
     "output_type": "stream",
     "text": [
      "   numerical_column categorical_column\n",
      "0                58                  B\n",
      "1                71                  C\n",
      "2                48                  D\n",
      "3                34                  C\n",
      "4                62                  D\n"
     ]
    }
   ],
   "source": [
    " # Set random seed for reproducibility\n",
    " np.random.seed(42)\n",
    " # Generate numerical data with outliers\n",
    " numerical_data = np.random.randint(20, 80, size=95).tolist()\n",
    " outliers = [150, 160, 170, 5, 10]  # Extreme values as outliers\n",
    " numerical_data.extend(outliers)\n",
    " # Generate categorical data\n",
    " categories = ['A', 'B', 'C', 'D']\n",
    " categorical_data = np.random.choice(categories, size=100)\n",
    " # Create DataFrame\n",
    " df = pd.DataFrame({\n",
    "    'numerical_column': numerical_data,\n",
    "    'categorical_column': categorical_data\n",
    " })\n",
    " # Display the first few rows\n",
    " print(df.head())\n",
    " # Save the dataset to CSV (optional)\n",
    " df.to_csv('Sample_Data.csv', index=False)"
   ]
  },
  {
   "cell_type": "code",
   "execution_count": 8,
   "id": "ff9deae5-5277-4ffe-a031-5781bdd162f7",
   "metadata": {},
   "outputs": [
    {
     "data": {
      "text/html": [
       "<div>\n",
       "<style scoped>\n",
       "    .dataframe tbody tr th:only-of-type {\n",
       "        vertical-align: middle;\n",
       "    }\n",
       "\n",
       "    .dataframe tbody tr th {\n",
       "        vertical-align: top;\n",
       "    }\n",
       "\n",
       "    .dataframe thead th {\n",
       "        text-align: right;\n",
       "    }\n",
       "</style>\n",
       "<table border=\"1\" class=\"dataframe\">\n",
       "  <thead>\n",
       "    <tr style=\"text-align: right;\">\n",
       "      <th></th>\n",
       "      <th>numerical_column</th>\n",
       "      <th>categorical_column</th>\n",
       "    </tr>\n",
       "  </thead>\n",
       "  <tbody>\n",
       "    <tr>\n",
       "      <th>0</th>\n",
       "      <td>58</td>\n",
       "      <td>B</td>\n",
       "    </tr>\n",
       "    <tr>\n",
       "      <th>1</th>\n",
       "      <td>71</td>\n",
       "      <td>C</td>\n",
       "    </tr>\n",
       "    <tr>\n",
       "      <th>2</th>\n",
       "      <td>48</td>\n",
       "      <td>D</td>\n",
       "    </tr>\n",
       "    <tr>\n",
       "      <th>3</th>\n",
       "      <td>34</td>\n",
       "      <td>C</td>\n",
       "    </tr>\n",
       "    <tr>\n",
       "      <th>4</th>\n",
       "      <td>62</td>\n",
       "      <td>D</td>\n",
       "    </tr>\n",
       "  </tbody>\n",
       "</table>\n",
       "</div>"
      ],
      "text/plain": [
       "   numerical_column categorical_column\n",
       "0                58                  B\n",
       "1                71                  C\n",
       "2                48                  D\n",
       "3                34                  C\n",
       "4                62                  D"
      ]
     },
     "execution_count": 8,
     "metadata": {},
     "output_type": "execute_result"
    }
   ],
   "source": [
    "df.head()"
   ]
  },
  {
   "cell_type": "code",
   "execution_count": 9,
   "id": "0fc88573-a6ac-486e-b0c7-461b4ca5604a",
   "metadata": {},
   "outputs": [
    {
     "data": {
      "text/plain": [
       "(100, 2)"
      ]
     },
     "execution_count": 9,
     "metadata": {},
     "output_type": "execute_result"
    }
   ],
   "source": [
    "df.shape"
   ]
  },
  {
   "cell_type": "code",
   "execution_count": 10,
   "id": "442a43bd-5d6c-4de2-b2f1-b50a15005ba8",
   "metadata": {},
   "outputs": [
    {
     "name": "stdout",
     "output_type": "stream",
     "text": [
      "<class 'pandas.core.frame.DataFrame'>\n",
      "RangeIndex: 100 entries, 0 to 99\n",
      "Data columns (total 2 columns):\n",
      " #   Column              Non-Null Count  Dtype \n",
      "---  ------              --------------  ----- \n",
      " 0   numerical_column    100 non-null    int64 \n",
      " 1   categorical_column  100 non-null    object\n",
      "dtypes: int64(1), object(1)\n",
      "memory usage: 1.7+ KB\n"
     ]
    }
   ],
   "source": [
    "df.info()"
   ]
  },
  {
   "cell_type": "code",
   "execution_count": 11,
   "id": "dc150430-4300-497b-9e55-dfabad87c583",
   "metadata": {},
   "outputs": [
    {
     "data": {
      "text/plain": [
       "numerical_column      55\n",
       "categorical_column     4\n",
       "dtype: int64"
      ]
     },
     "execution_count": 11,
     "metadata": {},
     "output_type": "execute_result"
    }
   ],
   "source": [
    "df.nunique()"
   ]
  },
  {
   "cell_type": "markdown",
   "id": "d023ca6e-e621-4c77-ae12-a5364beb628e",
   "metadata": {},
   "source": [
    "## Data Cleaning"
   ]
  },
  {
   "cell_type": "code",
   "execution_count": 12,
   "id": "c3b99f05-9a5f-4fdf-871f-2fb3c4c0a4e0",
   "metadata": {},
   "outputs": [
    {
     "data": {
      "text/plain": [
       "numerical_column      0\n",
       "categorical_column    0\n",
       "dtype: int64"
      ]
     },
     "execution_count": 12,
     "metadata": {},
     "output_type": "execute_result"
    }
   ],
   "source": [
    "df.isnull().sum()"
   ]
  },
  {
   "cell_type": "code",
   "execution_count": 13,
   "id": "bfe05460-cae7-43f6-b9ca-c7899b87c8e3",
   "metadata": {},
   "outputs": [
    {
     "data": {
      "text/plain": [
       "np.int64(20)"
      ]
     },
     "execution_count": 13,
     "metadata": {},
     "output_type": "execute_result"
    }
   ],
   "source": [
    "df.duplicated().sum()"
   ]
  },
  {
   "cell_type": "markdown",
   "id": "9d7317a0-1eae-426b-ace1-31feaf081509",
   "metadata": {},
   "source": [
    "## Statistical Measures for Numerical Data\n"
   ]
  },
  {
   "cell_type": "code",
   "execution_count": 15,
   "id": "d592f447-2d45-4204-ab44-f2519fc3300b",
   "metadata": {},
   "outputs": [
    {
     "name": "stdout",
     "output_type": "stream",
     "text": [
      "numerical_data Index(['numerical_column'], dtype='object')\n",
      "categorical_data Index(['categorical_column'], dtype='object')\n"
     ]
    }
   ],
   "source": [
    "num_col = df.select_dtypes(include=[np.number]).columns\n",
    "cat_col = df.select_dtypes(include=['object']).columns\n",
    "print(f\"numerical_data {num_col}\")\n",
    "print(f\"categorical_data {cat_col}\")"
   ]
  },
  {
   "cell_type": "code",
   "execution_count": 16,
   "id": "a0430a4e-d741-413f-9ed7-7dd08ec9ba4a",
   "metadata": {},
   "outputs": [
    {
     "data": {
      "text/html": [
       "<div>\n",
       "<style scoped>\n",
       "    .dataframe tbody tr th:only-of-type {\n",
       "        vertical-align: middle;\n",
       "    }\n",
       "\n",
       "    .dataframe tbody tr th {\n",
       "        vertical-align: top;\n",
       "    }\n",
       "\n",
       "    .dataframe thead th {\n",
       "        text-align: right;\n",
       "    }\n",
       "</style>\n",
       "<table border=\"1\" class=\"dataframe\">\n",
       "  <thead>\n",
       "    <tr style=\"text-align: right;\">\n",
       "      <th></th>\n",
       "      <th>count</th>\n",
       "      <th>mean</th>\n",
       "      <th>std</th>\n",
       "      <th>min</th>\n",
       "      <th>25%</th>\n",
       "      <th>50%</th>\n",
       "      <th>75%</th>\n",
       "      <th>max</th>\n",
       "    </tr>\n",
       "  </thead>\n",
       "  <tbody>\n",
       "    <tr>\n",
       "      <th>numerical_column</th>\n",
       "      <td>100.0</td>\n",
       "      <td>52.42</td>\n",
       "      <td>26.663326</td>\n",
       "      <td>5.0</td>\n",
       "      <td>34.0</td>\n",
       "      <td>48.5</td>\n",
       "      <td>66.5</td>\n",
       "      <td>170.0</td>\n",
       "    </tr>\n",
       "  </tbody>\n",
       "</table>\n",
       "</div>"
      ],
      "text/plain": [
       "                  count   mean        std  min   25%   50%   75%    max\n",
       "numerical_column  100.0  52.42  26.663326  5.0  34.0  48.5  66.5  170.0"
      ]
     },
     "execution_count": 16,
     "metadata": {},
     "output_type": "execute_result"
    }
   ],
   "source": [
    "df.describe().T"
   ]
  },
  {
   "cell_type": "code",
   "execution_count": 17,
   "id": "30cf41c4-7e64-46dc-adb1-725e6f7da40b",
   "metadata": {},
   "outputs": [
    {
     "name": "stdout",
     "output_type": "stream",
     "text": [
      "Mean: numerical_column    52.42\n",
      "dtype: float64\n",
      "Median: numerical_column    48.5\n",
      "dtype: float64\n",
      "Mode:    numerical_column\n",
      "0                63\n",
      "Standard Deviation: numerical_column    26.663326\n",
      "dtype: float64\n",
      "Variance: numerical_column    710.932929\n",
      "dtype: float64\n",
      "Range: numerical_column    165\n",
      "dtype: int64\n"
     ]
    }
   ],
   "source": [
    " # Compute statistics\n",
    " mean_value = df[num_col].mean()\n",
    " median_value = df[num_col].median()\n",
    " mode_value = df[num_col].mode()\n",
    " std_dev = df[num_col].std()\n",
    " variance = df[num_col].var()\n",
    " range_value = df[num_col].max() - df[num_col].min()\n",
    " # Print statistics\n",
    " print(f\"Mean: {mean_value}\")\n",
    " print(f\"Median: {median_value}\")\n",
    " print(f\"Mode: {mode_value}\")\n",
    " print(f\"Standard Deviation: {std_dev}\")\n",
    " print(f\"Variance: {variance}\")\n",
    " print(f\"Range: {range_value}\")"
   ]
  },
  {
   "cell_type": "markdown",
   "id": "71b36d84-1148-46b9-b44f-1cb9714534b6",
   "metadata": {},
   "source": [
    "## Data Visualization for Numerical Data"
   ]
  },
  {
   "cell_type": "code",
   "execution_count": 18,
   "id": "a3a96a20-1c29-4a64-96a4-cbafb6ce52a8",
   "metadata": {},
   "outputs": [
    {
     "data": {
      "image/png": "[encoded data removed]",
      "text/plain": [
       "<Figure size 800x500 with 1 Axes>"
      ]
     },
     "metadata": {},
     "output_type": "display_data"
    }
   ],
   "source": [
    " # Histogram\n",
    " plt.figure(figsize=(8,5))\n",
    " sns.histplot(df[num_col], bins=30, kde=True)\n",
    " plt.title('Histogram')\n",
    " plt.show()"
   ]
  },
  {
   "cell_type": "code",
   "execution_count": 19,
   "id": "0a3f41e7-3c3e-42a6-a662-caad09f66df5",
   "metadata": {},
   "outputs": [
    {
     "name": "stdout",
     "output_type": "stream",
     "text": [
      "Inference about the histogram chart:\n",
      "1. The histogram shows the distribution of the numerical column in the dataset \n",
      "2.  The data appears to be roughly normally distributed with a peak around the 40-60 range.\n",
      "3. There are a few extreme values (outliers) on the right side of the histogram, indicating the presence of high-value outliers.\n",
      "4. The presence of outliers can be confirmed by the long tail on the right side of the histogram.\n",
      "5. The KDE (Kernel Density Estimate) line provides a smooth estimate of the data distribution, highlighting the central tendency and spread of the data\n"
     ]
    }
   ],
   "source": [
    " # Inference about the histogram chart\n",
    " print(\"Inference about the histogram chart:\")\n",
    " print(\"1. The histogram shows the distribution of the numerical column in the dataset \")\n",
    " print(\"2.  The data appears to be roughly normally distributed with a peak around the 40-60 range.\")\n",
    " print(\"3. There are a few extreme values (outliers) on the right side of the histogram, indicating the presence of high-value outliers.\")\n",
    " print(\"4. The presence of outliers can be confirmed by the long tail on the right side of the histogram.\")\n",
    " print(\"5. The KDE (Kernel Density Estimate) line provides a smooth estimate of the data distribution, highlighting the central tendency and spread of the data\")"
   ]
  },
  {
   "cell_type": "code",
   "execution_count": 21,
   "id": "4a000672-bfb3-4a33-ad5a-bab51fa9911e",
   "metadata": {},
   "outputs": [
    {
     "data": {
      "image/png": "[encoded data removed]",
      "text/plain": [
       "<Figure size 800x500 with 1 Axes>"
      ]
     },
     "metadata": {},
     "output_type": "display_data"
    }
   ],
   "source": [
    "# Box Plot\n",
    "plt.figure(figsize=(8,5))\n",
    "sns.boxplot(df[num_col])\n",
    "plt.title('Box Plot')\n",
    "plt.show()"
   ]
  },
  {
   "cell_type": "markdown",
   "id": "a8e1a9da-42d3-4723-8726-c57645a8f65c",
   "metadata": {},
   "source": [
    "print(\"\"\"Inference about the box plot chart:\n",
    "1. The box plot shows the distribution of the numerical column in the dataset.\n",
    "2. The central box represents the interquartile range (IQR), which contains the middle 50% of the data.\n",
    "3. The line inside the box indicates the median value of the numerical column.\n",
    "4. The whiskers extend to the minimum and maximum values within 1.5 * IQR from the lower and upper quartiles, respectively.\n",
    "5. Data points outside the whiskers are considered outliers, which are represented as individual points.\n",
    "6. The presence of several outliers is evident, with values significantly higher than the upper whisker.\n",
    "7. The distribution appears to be slightly right-skewed, as indicated by the longer whisker and more outliers on the higher end.\"\"\")"
   ]
  },
  {
   "cell_type": "markdown",
   "id": "b1b8e865-c663-4f9f-abb4-b6dca3234e20",
   "metadata": {},
   "source": [
    "## Identifying Outliers using IQR"
   ]
  },
  {
   "cell_type": "code",
   "execution_count": 25,
   "id": "8d17a9a2-557c-4a62-9534-a321395d74b0",
   "metadata": {},
   "outputs": [
    {
     "name": "stdout",
     "output_type": "stream",
     "text": [
      "Outliers:\n",
      " 95    150\n",
      "96    160\n",
      "97    170\n",
      "Name: numerical_column, dtype: int64\n"
     ]
    }
   ],
   "source": [
    " Q1 = df['numerical_column'].quantile(0.25)\n",
    " Q3 = df['numerical_column'].quantile(0.75)\n",
    " IQR = Q3 - Q1\n",
    " lower_bound = Q1 - 1.5 * IQR\n",
    "upper_bound = Q3 + 1.5 * IQR\n",
    " # Filtering out the outliers\n",
    " outliers = df[(df['numerical_column'] < lower_bound) | \n",
    "(df['numerical_column'] > upper_bound)]['numerical_column']\n",
    " # Print the detected outliers\n",
    " print(\"Outliers:\\n\", outliers)"
   ]
  },
  {
   "cell_type": "markdown",
   "id": "97880457-fe03-414c-bf77-6cce8fa89723",
   "metadata": {},
   "source": [
    "## Analyzing Categorical Variables"
   ]
  },
  {
   "cell_type": "code",
   "execution_count": 27,
   "id": "334e6cda-b5c9-4974-bebf-d70f5129ed8c",
   "metadata": {},
   "outputs": [
    {
     "name": "stdout",
     "output_type": "stream",
     "text": [
      "categorical_column\n",
      "C                     31\n",
      "A                     28\n",
      "D                     26\n",
      "B                     15\n",
      "Name: count, dtype: int64\n"
     ]
    }
   ],
   "source": [
    "category_counts = df[cat_col].value_counts()\n",
    "print(category_counts)"
   ]
  },
  {
   "cell_type": "code",
   "execution_count": 28,
   "id": "0975392e-e6fd-4c41-8eaa-f2b38f6c887c",
   "metadata": {},
   "outputs": [
    {
     "data": {
      "image/png": "[encoded data removed]",
      "text/plain": [
       "<Figure size 800x500 with 1 Axes>"
      ]
     },
     "metadata": {},
     "output_type": "display_data"
    }
   ],
   "source": [
    " # Bar Chart\n",
    " plt.figure(figsize=(8,5))\n",
    " category_counts.plot(kind='bar')\n",
    " plt.title('Bar Chart of Categories')\n",
    " plt.show()"
   ]
  },
  {
   "cell_type": "code",
   "execution_count": 29,
   "id": "5747b54b-e66b-4562-94ee-886d84afc692",
   "metadata": {},
   "outputs": [
    {
     "name": "stdout",
     "output_type": "stream",
     "text": [
      "Inference about the bar chart of categories:\n",
      "1. The bar chart shows the frequency distribution of the categorical column in the dataset.\n",
      "2. Category 'C' has the highest frequency with 31 occurrences.\n",
      "3. Category 'A' follows with 28 occurrences.\n",
      "4. Category 'D' has 26 occurrences.\n",
      "5. Category 'B' has the lowest frequency with 15 occurrences.\n",
      "6. The chart helps in understanding the distribution and dominance of each category in the dataset.\n"
     ]
    }
   ],
   "source": [
    "print(\"\"\"Inference about the bar chart of categories:\n",
    "1. The bar chart shows the frequency distribution of the categorical column in the dataset.\n",
    "2. Category 'C' has the highest frequency with 31 occurrences.\n",
    "3. Category 'A' follows with 28 occurrences.\n",
    "4. Category 'D' has 26 occurrences.\n",
    "5. Category 'B' has the lowest frequency with 15 occurrences.\n",
    "6. The chart helps in understanding the distribution and dominance of each category in the dataset.\"\"\")"
   ]
  },
  {
   "cell_type": "code",
   "execution_count": 30,
   "id": "eeb1317d-c85b-4db3-a284-01a737d1b141",
   "metadata": {},
   "outputs": [
    {
     "data": {
      "image/png": "[encoded data removed]",
      "text/plain": [
       "<Figure size 800x500 with 1 Axes>"
      ]
     },
     "metadata": {},
     "output_type": "display_data"
    }
   ],
   "source": [
    " # Pie Chart\n",
    " plt.figure(figsize=(8,5))\n",
    " category_counts.plot(kind='pie', autopct='%1.1f%%')\n",
    " plt.title('Pie Chart of Categories')\n",
    " plt.ylabel('')\n",
    " plt.show()"
   ]
  },
  {
   "cell_type": "code",
   "execution_count": 31,
   "id": "642b8327-c603-424b-8950-f9b4ad2ba78e",
   "metadata": {},
   "outputs": [
    {
     "name": "stdout",
     "output_type": "stream",
     "text": [
      "Inference about the pie chart of categories:\n",
      "1. The pie chart shows the proportion of each category in the categorical column.\n",
      "2. Category 'C' has the largest proportion, making up 31% of the data.\n",
      "3. Category 'A' follows with 28% of the data.\n",
      "4. Category 'D' accounts for 26% of the data.\n",
      "5. Category 'B' has the smallest proportion, making up 15% of the data.\n",
      "6. The pie chart provides a clear visual representation of the relative distribution of each category in the dataset.\n"
     ]
    }
   ],
   "source": [
    "print(\"\"\"Inference about the pie chart of categories:\n",
    "1. The pie chart shows the proportion of each category in the categorical column.\n",
    "2. Category 'C' has the largest proportion, making up 31% of the data.\n",
    "3. Category 'A' follows with 28% of the data.\n",
    "4. Category 'D' accounts for 26% of the data.\n",
    "5. Category 'B' has the smallest proportion, making up 15% of the data.\n",
    "6. The pie chart provides a clear visual representation of the relative distribution of each category in the dataset.\"\"\")"
   ]
  },
  {
   "cell_type": "code",
   "execution_count": null,
   "id": "81f82f99-4318-49f8-a592-c4232d0e9f82",
   "metadata": {},
   "outputs": [],
   "source": []
  }
 ],
 "metadata": {
  "kernelspec": {
   "display_name": "Python 3 (ipykernel)",
   "language": "python",
   "name": "python3"
  },
  "language_info": {
   "codemirror_mode": {
    "name": "ipython",
    "version": 3
   },
   "file_extension": ".py",
   "mimetype": "text/x-python",
   "name": "python",
   "nbconvert_exporter": "python",
   "pygments_lexer": "ipython3",
   "version": "3.12.6"
  }
 },
 "nbformat": 4,
 "nbformat_minor": 5
}
